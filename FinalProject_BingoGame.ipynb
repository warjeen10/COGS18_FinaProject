{
 "cells": [
  {
   "cell_type": "raw",
   "metadata": {},
   "source": [
    "For my project I have decided to create a bingo game! \n",
    "1. random generator will choose fifty unique numbers from between 1-100 and store them in the variable chosen\n",
    "\n",
    "2. instructions for creating the 5x5 bingo card will begin\n",
    "    - it will recongize if the user inputs more than or less than 5 numbers (and ask the user to input 5 numbers)\n",
    "    - it will also recongize any repeated numbers and ask the user to input a new unique number to replace that one         repeated number\n",
    "\n",
    "3. the game will iterate through chosen and check to see if any winning numbers are also in the Bingocard (created by    the user in step 2)\n",
    "\n",
    "4. if the user has a winning number it will be replaced by 0 (representing marking the card)\n",
    "\n",
    "5. the game will then count how many 0s are in the columns, rows, and diagonals of Bingocard and store them in a list\n",
    "\n",
    "6. the game will then iterate through this list for any integer 5 (because 5 0s represents a bingo)\n",
    "\n",
    "7. if it comes across a 5 then it will print BINGO and end the game\n",
    "\n",
    "8. if BINGO was not won it will print Sorry you lost.... please try again another time\n",
    "\n",
    "\n",
    "\n",
    "\n",
    "\n",
    "\n",
    "\n",
    "If I had more time:\n",
    "1. spend more time refactoring my code\n",
    "\n",
    "2. add code to prevent the user from inputting numbers that are not within the range of 1-100\n",
    "\n",
    "3. add code to prevent the user from inputting symbols (instead of integers)\n",
    "\n",
    "4. find a way to make the bingocard a visual representation(image)\n",
    "    - also think it would have been nice to initially print a 5x5 card with empty slots, so the user could just enter       their numbers in those empty slot (rather than creating the card row by row)\n",
    "    - add more color to make the game more visually appealing"
   ]
  },
  {
   "cell_type": "code",
   "execution_count": null,
   "metadata": {},
   "outputs": [],
   "source": [
    "import module_3"
   ]
  },
  {
   "cell_type": "code",
   "execution_count": null,
   "metadata": {},
   "outputs": [],
   "source": [
    "import test_functions"
   ]
  },
  {
   "cell_type": "code",
   "execution_count": null,
   "metadata": {
    "scrolled": true
   },
   "outputs": [],
   "source": [
    "module_3.play_game()"
   ]
  },
  {
   "cell_type": "code",
   "execution_count": null,
   "metadata": {},
   "outputs": [],
   "source": []
  }
 ],
 "metadata": {
  "kernelspec": {
   "display_name": "Python 3",
   "language": "python",
   "name": "python3"
  },
  "language_info": {
   "codemirror_mode": {
    "name": "ipython",
    "version": 3
   },
   "file_extension": ".py",
   "mimetype": "text/x-python",
   "name": "python",
   "nbconvert_exporter": "python",
   "pygments_lexer": "ipython3",
   "version": "3.6.7"
  }
 },
 "nbformat": 4,
 "nbformat_minor": 2
}
